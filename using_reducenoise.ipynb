{
 "cells": [
  {
   "cell_type": "code",
   "execution_count": 4,
   "metadata": {},
   "outputs": [],
   "source": [
    "import librosa\n",
    "import librosa.display\n",
    "import pandas as pd\n",
    "import numpy as np\n",
    "import scipy.signal\n",
    "import matplotlib.pyplot as plt\n",
    "%matplotlib inline\n",
    "from PIL import Image\n",
    "from pathlib import Path\n",
    "from pylab import rcParams\n",
    "rcParams['figure.figsize'] = 14, 6\n",
    "from scipy.io import wavfile\n",
    "import torch\n",
    "import noisereduce as nr\n",
    "\n",
    "import csv\n",
    "# Preprocessing\n",
    "from sklearn.model_selection import train_test_split\n",
    "from sklearn.preprocessing import LabelEncoder, StandardScaler\n",
    "#Reports\n",
    "from sklearn.metrics import classification_report, confusion_matrix\n",
    "\n",
    "import warnings\n",
    "warnings.filterwarnings('ignore')"
   ]
  },
  {
   "cell_type": "code",
   "execution_count": 20,
   "metadata": {},
   "outputs": [],
   "source": [
    "sr = 16000\n",
    "\n",
    "# load data\n",
    "rate, data = wavfile.read('D:/008.소음 환경 음성인식 데이터/01.데이터/1.Training/원천데이터_0824_add/TS3_04.카페,음식점_01.대화소음/04.카페,음식점/01.대화소음/04_06_003238_210830_SN.wav')\n",
    "# y1,sr = librosa.load('D:/008.소음 환경 음성인식 데이터/01.데이터/1.Training/원천데이터_0824_add/TS3_04.카페,음식점_01.대화소음/04.카페,음식점/01.대화소음/04_06_003238_210830_SN.wav', mono=True, sr=sr)\n",
    "# perform noise reduction\n",
    "reduced_noise = nr.reduce_noise(y=data, sr=rate, thresh_n_mult_nonstationary=1.3, stationary=False)\n",
    "# y1,sr = librosa.load(reduced_noise)"
   ]
  },
  {
   "cell_type": "code",
   "execution_count": null,
   "metadata": {},
   "outputs": [],
   "source": [
    "from IPython.display import Audio, display\n",
    "\n",
    "# reduced_noise를 Audio 객체로 만들어서 듣기\n",
    "audio_obj = Audio(reduced_noise, rate=rate)\n",
    "audio_obj_ori = Audio()\n",
    "\n",
    "# 생성한 Audio 객체를 표시\n",
    "display(audio_obj)"
   ]
  }
 ],
 "metadata": {
  "kernelspec": {
   "display_name": "Python 3",
   "language": "python",
   "name": "python3"
  },
  "language_info": {
   "codemirror_mode": {
    "name": "ipython",
    "version": 3
   },
   "file_extension": ".py",
   "mimetype": "text/x-python",
   "name": "python",
   "nbconvert_exporter": "python",
   "pygments_lexer": "ipython3",
   "version": "3.11.5"
  }
 },
 "nbformat": 4,
 "nbformat_minor": 2
}
